{
  "nbformat": 4,
  "nbformat_minor": 0,
  "metadata": {
    "colab": {
      "provenance": []
    },
    "kernelspec": {
      "name": "python3",
      "display_name": "Python 3"
    },
    "language_info": {
      "name": "python"
    },
    "accelerator": "GPU",
    "gpuClass": "standard"
  },
  "cells": [
    {
      "cell_type": "code",
      "execution_count": 2,
      "metadata": {
        "colab": {
          "base_uri": "https://localhost:8080/"
        },
        "id": "aFS5b3VkCK9y",
        "outputId": "4470a26c-c08c-4503-983c-74ea586a5835"
      },
      "outputs": [
        {
          "output_type": "stream",
          "name": "stderr",
          "text": [
            "WARNING:tensorflow:Layer lstm_1 will not use cuDNN kernels since it doesn't meet the criteria. It will use a generic GPU kernel as fallback when running on GPU.\n"
          ]
        },
        {
          "output_type": "stream",
          "name": "stdout",
          "text": [
            "291/291 - 63s - loss: 0.8240 - accuracy: 0.6450 - 63s/epoch - 218ms/step\n",
            "144/144 - 2s - loss: 0.7616 - accuracy: 0.6658 - 2s/epoch - 11ms/step\n",
            "0.7615569829940796\n",
            "0.6657929420471191\n",
            "['loss', 'accuracy']\n"
          ]
        }
      ],
      "source": [
        "import pandas as pd # data processing, CSV file I/O (e.g. pd.read_csv)\n",
        "from keras.preprocessing.text import Tokenizer\n",
        "from tensorflow.keras.preprocessing.sequence import pad_sequences\n",
        "from keras.models import Sequential\n",
        "from keras.layers import Dense, Embedding, LSTM, SpatialDropout1D\n",
        "from matplotlib import pyplot\n",
        "from sklearn.model_selection import train_test_split\n",
        "from keras.utils.np_utils import to_categorical\n",
        "import re\n",
        "\n",
        "from sklearn.preprocessing import LabelEncoder\n",
        "\n",
        "data = pd.read_csv('Sentiment.csv')\n",
        "# Keeping only the neccessary columns\n",
        "data = data[['text','sentiment']]\n",
        "\n",
        "data['text'] = data['text'].apply(lambda x: x.lower())\n",
        "data['text'] = data['text'].apply((lambda x: re.sub('[^a-zA-z0-9\\s]', '', x)))\n",
        "\n",
        "for idx, row in data.iterrows():\n",
        "    row[0] = row[0].replace('rt', ' ')\n",
        "\n",
        "max_fatures = 2000\n",
        "tokenizer = Tokenizer(num_words=max_fatures, split=' ')\n",
        "tokenizer.fit_on_texts(data['text'].values)\n",
        "X = tokenizer.texts_to_sequences(data['text'].values)\n",
        "\n",
        "X = pad_sequences(X)\n",
        "\n",
        "embed_dim = 128\n",
        "lstm_out = 196\n",
        "def createmodel():\n",
        "    model = Sequential()\n",
        "    model.add(Embedding(max_fatures, embed_dim,input_length = X.shape[1]))\n",
        "    model.add(LSTM(lstm_out, dropout=0.2, recurrent_dropout=0.2))\n",
        "    model.add(Dense(3,activation='softmax'))\n",
        "    model.compile(loss = 'categorical_crossentropy', optimizer='adam',metrics = ['accuracy'])\n",
        "    return model\n",
        "# print(model.summary())\n",
        "\n",
        "labelencoder = LabelEncoder()\n",
        "integer_encoded = labelencoder.fit_transform(data['sentiment'])\n",
        "y = to_categorical(integer_encoded)\n",
        "X_train, X_test, Y_train, Y_test = train_test_split(X,y, test_size = 0.33, random_state = 42)\n",
        "\n",
        "batch_size = 32\n",
        "model = createmodel()\n",
        "model.fit(X_train, Y_train, epochs = 1, batch_size=batch_size, verbose = 2)\n",
        "score,acc = model.evaluate(X_test,Y_test,verbose=2,batch_size=batch_size)\n",
        "print(score)\n",
        "print(acc)\n",
        "print(model.metrics_names)\n"
      ]
    },
    {
      "cell_type": "code",
      "source": [
        "model.save('sentiment_model.h5')\n"
      ],
      "metadata": {
        "id": "KmL5MxLbKTrD"
      },
      "execution_count": 3,
      "outputs": []
    },
    {
      "cell_type": "code",
      "source": [
        "from keras.models import load_model\n",
        "import numpy as np\n",
        "\n",
        "loaded_model = load_model('sentiment_model.h5')\n",
        "\n",
        "new_text = [\"A lot of good things are happening. We are respected again throughout the world, and that's a great thing.@realDonaldTrump\"]\n",
        "new_text = tokenizer.texts_to_sequences(new_text)\n",
        "new_text = pad_sequences(new_text, maxlen=X.shape[1], dtype='int32', value=0)\n",
        "sentiment_prob = loaded_model.predict(new_text, batch_size=1, verbose=2)[0]\n",
        "\n",
        "sentiment_classes = ['Negative', 'Neutral', 'Positive']\n",
        "sentiment_pred = sentiment_classes[np.argmax(sentiment_prob)]\n",
        "\n",
        "print(\"Predicted sentiment: \", sentiment_pred)\n",
        "print(\"Predicted probabilities: \", sentiment_prob)\n"
      ],
      "metadata": {
        "colab": {
          "base_uri": "https://localhost:8080/"
        },
        "id": "axk4-I5mKxjk",
        "outputId": "6c93f0d6-a6a1-49dd-c2db-64b89aff9aa2"
      },
      "execution_count": 4,
      "outputs": [
        {
          "output_type": "stream",
          "name": "stderr",
          "text": [
            "WARNING:tensorflow:Layer lstm_1 will not use cuDNN kernels since it doesn't meet the criteria. It will use a generic GPU kernel as fallback when running on GPU.\n"
          ]
        },
        {
          "output_type": "stream",
          "name": "stdout",
          "text": [
            "1/1 - 0s - 428ms/epoch - 428ms/step\n",
            "Predicted sentiment:  Positive\n",
            "Predicted probabilities:  [0.39611092 0.19630554 0.4075835 ]\n"
          ]
        }
      ]
    },
    {
      "cell_type": "code",
      "source": [
        "from keras.wrappers.scikit_learn import KerasClassifier\n",
        "from sklearn.model_selection import GridSearchCV\n",
        "from keras.optimizers import Adam\n",
        "\n",
        "def create_model(units=196, dropout=0.2, learning_rate=0.001):\n",
        "    model = Sequential()\n",
        "    model.add(Embedding(max_fatures, embed_dim,input_length = X.shape[1]))\n",
        "    model.add(LSTM(units, dropout=dropout, recurrent_dropout=dropout))\n",
        "    model.add(Dense(3, activation='softmax'))\n",
        "    optimizer = Adam(lr=learning_rate)\n",
        "    model.compile(loss='categorical_crossentropy', optimizer=optimizer, metrics=['accuracy'])\n",
        "    return model\n",
        "\n",
        "model = KerasClassifier(build_fn=create_model, verbose=2)\n",
        "\n",
        "units = [64, 128, 196]\n",
        "dropout = [0.1, 0.2, 0.3]\n",
        "learning_rate = [0.001, 0.01, 0.1]\n",
        "epochs = [1]\n",
        "batch_size = [32]\n",
        "\n",
        "param_grid = dict(units=units, dropout=dropout, learning_rate=learning_rate, epochs=epochs, batch_size=batch_size)\n",
        "grid = GridSearchCV(estimator=model, param_grid=param_grid, cv=3, verbose=2)\n",
        "grid_result = grid.fit(X_train, Y_train)\n",
        "\n",
        "print(\"Best: %f using %s\" % (grid_result.best_score_, grid_result.best_params_))\n"
      ],
      "metadata": {
        "colab": {
          "base_uri": "https://localhost:8080/"
        },
        "id": "CU4Xeg6WKzdp",
        "outputId": "c4a79584-cf54-4daa-d383-bec528ebd10c"
      },
      "execution_count": null,
      "outputs": [
        {
          "output_type": "stream",
          "name": "stderr",
          "text": [
            "<ipython-input-6-6bec1cffbd5d>:14: DeprecationWarning: KerasClassifier is deprecated, use Sci-Keras (https://github.com/adriangb/scikeras) instead. See https://www.adriangb.com/scikeras/stable/migration.html for help migrating.\n",
            "  model = KerasClassifier(build_fn=create_model, verbose=2)\n",
            "WARNING:tensorflow:Layer lstm_50 will not use cuDNN kernels since it doesn't meet the criteria. It will use a generic GPU kernel as fallback when running on GPU.\n"
          ]
        },
        {
          "output_type": "stream",
          "name": "stdout",
          "text": [
            "Fitting 3 folds for each of 27 candidates, totalling 81 fits\n",
            "194/194 - 38s - loss: 0.8528 - accuracy: 0.6329 - 38s/epoch - 195ms/step\n",
            "97/97 - 1s - loss: 0.7618 - accuracy: 0.6646 - 1s/epoch - 13ms/step\n"
          ]
        },
        {
          "output_type": "stream",
          "name": "stderr",
          "text": [
            "WARNING:tensorflow:Layer lstm_51 will not use cuDNN kernels since it doesn't meet the criteria. It will use a generic GPU kernel as fallback when running on GPU.\n"
          ]
        },
        {
          "output_type": "stream",
          "name": "stdout",
          "text": [
            "[CV] END batch_size=32, dropout=0.1, epochs=1, learning_rate=0.001, units=64; total time=  39.7s\n",
            "194/194 - 27s - loss: 0.8419 - accuracy: 0.6379 - 27s/epoch - 139ms/step\n",
            "97/97 - 1s - loss: 0.7705 - accuracy: 0.6704 - 1s/epoch - 13ms/step\n"
          ]
        },
        {
          "output_type": "stream",
          "name": "stderr",
          "text": [
            "WARNING:tensorflow:Layer lstm_52 will not use cuDNN kernels since it doesn't meet the criteria. It will use a generic GPU kernel as fallback when running on GPU.\n"
          ]
        },
        {
          "output_type": "stream",
          "name": "stdout",
          "text": [
            "[CV] END batch_size=32, dropout=0.1, epochs=1, learning_rate=0.001, units=64; total time=  28.5s\n",
            "194/194 - 28s - loss: 0.8544 - accuracy: 0.6325 - 28s/epoch - 144ms/step\n",
            "97/97 - 1s - loss: 0.7669 - accuracy: 0.6778 - 1s/epoch - 12ms/step\n"
          ]
        },
        {
          "output_type": "stream",
          "name": "stderr",
          "text": [
            "WARNING:tensorflow:Layer lstm_53 will not use cuDNN kernels since it doesn't meet the criteria. It will use a generic GPU kernel as fallback when running on GPU.\n"
          ]
        },
        {
          "output_type": "stream",
          "name": "stdout",
          "text": [
            "[CV] END batch_size=32, dropout=0.1, epochs=1, learning_rate=0.001, units=64; total time=  45.1s\n",
            "194/194 - 29s - loss: 0.8449 - accuracy: 0.6326 - 29s/epoch - 150ms/step\n",
            "97/97 - 1s - loss: 0.7841 - accuracy: 0.6620 - 1s/epoch - 13ms/step\n"
          ]
        },
        {
          "output_type": "stream",
          "name": "stderr",
          "text": [
            "WARNING:tensorflow:Layer lstm_54 will not use cuDNN kernels since it doesn't meet the criteria. It will use a generic GPU kernel as fallback when running on GPU.\n"
          ]
        },
        {
          "output_type": "stream",
          "name": "stdout",
          "text": [
            "[CV] END batch_size=32, dropout=0.1, epochs=1, learning_rate=0.001, units=128; total time=  31.0s\n",
            "194/194 - 28s - loss: 0.8477 - accuracy: 0.6357 - 28s/epoch - 145ms/step\n",
            "97/97 - 1s - loss: 0.7725 - accuracy: 0.6607 - 1s/epoch - 13ms/step\n"
          ]
        },
        {
          "output_type": "stream",
          "name": "stderr",
          "text": [
            "WARNING:tensorflow:Layer lstm_55 will not use cuDNN kernels since it doesn't meet the criteria. It will use a generic GPU kernel as fallback when running on GPU.\n"
          ]
        },
        {
          "output_type": "stream",
          "name": "stdout",
          "text": [
            "[CV] END batch_size=32, dropout=0.1, epochs=1, learning_rate=0.001, units=128; total time=  46.0s\n",
            "194/194 - 29s - loss: 0.8489 - accuracy: 0.6278 - 29s/epoch - 152ms/step\n",
            "97/97 - 1s - loss: 0.7936 - accuracy: 0.6700 - 1s/epoch - 12ms/step\n"
          ]
        },
        {
          "output_type": "stream",
          "name": "stderr",
          "text": [
            "WARNING:tensorflow:Layer lstm_56 will not use cuDNN kernels since it doesn't meet the criteria. It will use a generic GPU kernel as fallback when running on GPU.\n"
          ]
        },
        {
          "output_type": "stream",
          "name": "stdout",
          "text": [
            "[CV] END batch_size=32, dropout=0.1, epochs=1, learning_rate=0.001, units=128; total time=  45.1s\n",
            "194/194 - 28s - loss: 0.8553 - accuracy: 0.6274 - 28s/epoch - 144ms/step\n",
            "97/97 - 1s - loss: 0.7664 - accuracy: 0.6649 - 1s/epoch - 13ms/step\n"
          ]
        },
        {
          "output_type": "stream",
          "name": "stderr",
          "text": [
            "WARNING:tensorflow:Layer lstm_57 will not use cuDNN kernels since it doesn't meet the criteria. It will use a generic GPU kernel as fallback when running on GPU.\n"
          ]
        },
        {
          "output_type": "stream",
          "name": "stdout",
          "text": [
            "[CV] END batch_size=32, dropout=0.1, epochs=1, learning_rate=0.001, units=196; total time=  29.5s\n",
            "194/194 - 29s - loss: 0.8474 - accuracy: 0.6324 - 29s/epoch - 148ms/step\n",
            "97/97 - 1s - loss: 0.7742 - accuracy: 0.6646 - 1s/epoch - 13ms/step\n"
          ]
        },
        {
          "output_type": "stream",
          "name": "stderr",
          "text": [
            "WARNING:tensorflow:Layer lstm_58 will not use cuDNN kernels since it doesn't meet the criteria. It will use a generic GPU kernel as fallback when running on GPU.\n"
          ]
        },
        {
          "output_type": "stream",
          "name": "stdout",
          "text": [
            "[CV] END batch_size=32, dropout=0.1, epochs=1, learning_rate=0.001, units=196; total time=  30.3s\n",
            "194/194 - 28s - loss: 0.8445 - accuracy: 0.6411 - 28s/epoch - 146ms/step\n",
            "97/97 - 1s - loss: 0.7907 - accuracy: 0.6616 - 1s/epoch - 13ms/step\n"
          ]
        },
        {
          "output_type": "stream",
          "name": "stderr",
          "text": [
            "WARNING:tensorflow:Layer lstm_59 will not use cuDNN kernels since it doesn't meet the criteria. It will use a generic GPU kernel as fallback when running on GPU.\n"
          ]
        },
        {
          "output_type": "stream",
          "name": "stdout",
          "text": [
            "[CV] END batch_size=32, dropout=0.1, epochs=1, learning_rate=0.001, units=196; total time=  30.2s\n",
            "194/194 - 27s - loss: 0.8361 - accuracy: 0.6478 - 27s/epoch - 138ms/step\n",
            "97/97 - 2s - loss: 0.8130 - accuracy: 0.6501 - 2s/epoch - 17ms/step\n"
          ]
        },
        {
          "output_type": "stream",
          "name": "stderr",
          "text": [
            "WARNING:tensorflow:Layer lstm_60 will not use cuDNN kernels since it doesn't meet the criteria. It will use a generic GPU kernel as fallback when running on GPU.\n"
          ]
        },
        {
          "output_type": "stream",
          "name": "stdout",
          "text": [
            "[CV] END batch_size=32, dropout=0.1, epochs=1, learning_rate=0.01, units=64; total time=  29.9s\n",
            "194/194 - 29s - loss: 0.8293 - accuracy: 0.6444 - 29s/epoch - 147ms/step\n",
            "97/97 - 2s - loss: 0.7911 - accuracy: 0.6772 - 2s/epoch - 18ms/step\n"
          ]
        },
        {
          "output_type": "stream",
          "name": "stderr",
          "text": [
            "WARNING:tensorflow:Layer lstm_61 will not use cuDNN kernels since it doesn't meet the criteria. It will use a generic GPU kernel as fallback when running on GPU.\n"
          ]
        },
        {
          "output_type": "stream",
          "name": "stdout",
          "text": [
            "[CV] END batch_size=32, dropout=0.1, epochs=1, learning_rate=0.01, units=64; total time=  45.3s\n",
            "194/194 - 29s - loss: 0.8300 - accuracy: 0.6411 - 29s/epoch - 147ms/step\n",
            "97/97 - 1s - loss: 0.7914 - accuracy: 0.6658 - 1s/epoch - 13ms/step\n"
          ]
        },
        {
          "output_type": "stream",
          "name": "stderr",
          "text": [
            "WARNING:tensorflow:Layer lstm_62 will not use cuDNN kernels since it doesn't meet the criteria. It will use a generic GPU kernel as fallback when running on GPU.\n"
          ]
        },
        {
          "output_type": "stream",
          "name": "stdout",
          "text": [
            "[CV] END batch_size=32, dropout=0.1, epochs=1, learning_rate=0.01, units=64; total time=  46.0s\n",
            "194/194 - 28s - loss: 0.8571 - accuracy: 0.6371 - 28s/epoch - 142ms/step\n",
            "97/97 - 1s - loss: 0.7862 - accuracy: 0.6601 - 1s/epoch - 13ms/step\n"
          ]
        },
        {
          "output_type": "stream",
          "name": "stderr",
          "text": [
            "WARNING:tensorflow:Layer lstm_63 will not use cuDNN kernels since it doesn't meet the criteria. It will use a generic GPU kernel as fallback when running on GPU.\n"
          ]
        },
        {
          "output_type": "stream",
          "name": "stdout",
          "text": [
            "[CV] END batch_size=32, dropout=0.1, epochs=1, learning_rate=0.01, units=128; total time=  44.9s\n",
            "194/194 - 29s - loss: 0.8479 - accuracy: 0.6420 - 29s/epoch - 148ms/step\n",
            "97/97 - 1s - loss: 0.8039 - accuracy: 0.6662 - 1s/epoch - 13ms/step\n"
          ]
        },
        {
          "output_type": "stream",
          "name": "stderr",
          "text": [
            "WARNING:tensorflow:Layer lstm_64 will not use cuDNN kernels since it doesn't meet the criteria. It will use a generic GPU kernel as fallback when running on GPU.\n"
          ]
        },
        {
          "output_type": "stream",
          "name": "stdout",
          "text": [
            "[CV] END batch_size=32, dropout=0.1, epochs=1, learning_rate=0.01, units=128; total time=  30.5s\n",
            "194/194 - 29s - loss: 0.8488 - accuracy: 0.6396 - 29s/epoch - 149ms/step\n",
            "97/97 - 1s - loss: 0.7829 - accuracy: 0.6639 - 1s/epoch - 13ms/step\n"
          ]
        },
        {
          "output_type": "stream",
          "name": "stderr",
          "text": [
            "WARNING:tensorflow:Layer lstm_65 will not use cuDNN kernels since it doesn't meet the criteria. It will use a generic GPU kernel as fallback when running on GPU.\n"
          ]
        },
        {
          "output_type": "stream",
          "name": "stdout",
          "text": [
            "[CV] END batch_size=32, dropout=0.1, epochs=1, learning_rate=0.01, units=128; total time=  46.6s\n",
            "194/194 - 29s - loss: 0.8642 - accuracy: 0.6281 - 29s/epoch - 148ms/step\n",
            "97/97 - 1s - loss: 0.7705 - accuracy: 0.6708 - 1s/epoch - 13ms/step\n"
          ]
        },
        {
          "output_type": "stream",
          "name": "stderr",
          "text": [
            "WARNING:tensorflow:Layer lstm_66 will not use cuDNN kernels since it doesn't meet the criteria. It will use a generic GPU kernel as fallback when running on GPU.\n"
          ]
        },
        {
          "output_type": "stream",
          "name": "stdout",
          "text": [
            "[CV] END batch_size=32, dropout=0.1, epochs=1, learning_rate=0.01, units=196; total time=  45.5s\n",
            "194/194 - 28s - loss: 0.9224 - accuracy: 0.6136 - 28s/epoch - 146ms/step\n",
            "97/97 - 1s - loss: 0.8785 - accuracy: 0.6340 - 1s/epoch - 15ms/step\n"
          ]
        },
        {
          "output_type": "stream",
          "name": "stderr",
          "text": [
            "WARNING:tensorflow:Layer lstm_67 will not use cuDNN kernels since it doesn't meet the criteria. It will use a generic GPU kernel as fallback when running on GPU.\n"
          ]
        },
        {
          "output_type": "stream",
          "name": "stdout",
          "text": [
            "[CV] END batch_size=32, dropout=0.1, epochs=1, learning_rate=0.01, units=196; total time=  30.2s\n",
            "194/194 - 27s - loss: 0.8831 - accuracy: 0.6236 - 27s/epoch - 138ms/step\n",
            "97/97 - 1s - loss: 0.7954 - accuracy: 0.6535 - 1s/epoch - 12ms/step\n"
          ]
        },
        {
          "output_type": "stream",
          "name": "stderr",
          "text": [
            "WARNING:tensorflow:Layer lstm_68 will not use cuDNN kernels since it doesn't meet the criteria. It will use a generic GPU kernel as fallback when running on GPU.\n"
          ]
        },
        {
          "output_type": "stream",
          "name": "stdout",
          "text": [
            "[CV] END batch_size=32, dropout=0.1, epochs=1, learning_rate=0.01, units=196; total time=  28.7s\n",
            "194/194 - 29s - loss: 1.0451 - accuracy: 0.5596 - 29s/epoch - 150ms/step\n",
            "97/97 - 2s - loss: 0.9961 - accuracy: 0.5894 - 2s/epoch - 15ms/step\n",
            "[CV] END batch_size=32, dropout=0.1, epochs=1, learning_rate=0.1, units=64; total time=  45.9s\n"
          ]
        },
        {
          "output_type": "stream",
          "name": "stderr",
          "text": [
            "WARNING:tensorflow:Layer lstm_69 will not use cuDNN kernels since it doesn't meet the criteria. It will use a generic GPU kernel as fallback when running on GPU.\n"
          ]
        },
        {
          "output_type": "stream",
          "name": "stdout",
          "text": [
            "194/194 - 27s - loss: 1.0451 - accuracy: 0.5663 - 27s/epoch - 137ms/step\n",
            "97/97 - 1s - loss: 1.0762 - accuracy: 0.6020 - 1s/epoch - 13ms/step\n"
          ]
        },
        {
          "output_type": "stream",
          "name": "stderr",
          "text": [
            "WARNING:tensorflow:Layer lstm_70 will not use cuDNN kernels since it doesn't meet the criteria. It will use a generic GPU kernel as fallback when running on GPU.\n"
          ]
        },
        {
          "output_type": "stream",
          "name": "stdout",
          "text": [
            "[CV] END batch_size=32, dropout=0.1, epochs=1, learning_rate=0.1, units=64; total time=  28.0s\n",
            "194/194 - 27s - loss: 1.0623 - accuracy: 0.5528 - 27s/epoch - 141ms/step\n",
            "97/97 - 1s - loss: 1.0093 - accuracy: 0.5631 - 1s/epoch - 12ms/step\n"
          ]
        },
        {
          "output_type": "stream",
          "name": "stderr",
          "text": [
            "WARNING:tensorflow:Layer lstm_71 will not use cuDNN kernels since it doesn't meet the criteria. It will use a generic GPU kernel as fallback when running on GPU.\n"
          ]
        },
        {
          "output_type": "stream",
          "name": "stdout",
          "text": [
            "[CV] END batch_size=32, dropout=0.1, epochs=1, learning_rate=0.1, units=64; total time=  45.7s\n",
            "194/194 - 29s - loss: 1.1610 - accuracy: 0.5451 - 29s/epoch - 150ms/step\n",
            "97/97 - 1s - loss: 1.0795 - accuracy: 0.5713 - 1s/epoch - 13ms/step\n"
          ]
        },
        {
          "output_type": "stream",
          "name": "stderr",
          "text": [
            "WARNING:tensorflow:Layer lstm_72 will not use cuDNN kernels since it doesn't meet the criteria. It will use a generic GPU kernel as fallback when running on GPU.\n"
          ]
        },
        {
          "output_type": "stream",
          "name": "stdout",
          "text": [
            "[CV] END batch_size=32, dropout=0.1, epochs=1, learning_rate=0.1, units=128; total time=  30.5s\n",
            "194/194 - 27s - loss: 1.1936 - accuracy: 0.5527 - 27s/epoch - 138ms/step\n",
            "97/97 - 2s - loss: 1.2173 - accuracy: 0.6120 - 2s/epoch - 18ms/step\n"
          ]
        },
        {
          "output_type": "stream",
          "name": "stderr",
          "text": [
            "WARNING:tensorflow:Layer lstm_73 will not use cuDNN kernels since it doesn't meet the criteria. It will use a generic GPU kernel as fallback when running on GPU.\n"
          ]
        },
        {
          "output_type": "stream",
          "name": "stdout",
          "text": [
            "[CV] END batch_size=32, dropout=0.1, epochs=1, learning_rate=0.1, units=128; total time=  30.1s\n",
            "194/194 - 28s - loss: 1.1817 - accuracy: 0.5387 - 28s/epoch - 142ms/step\n",
            "97/97 - 1s - loss: 1.1003 - accuracy: 0.5854 - 1s/epoch - 13ms/step\n"
          ]
        },
        {
          "output_type": "stream",
          "name": "stderr",
          "text": [
            "WARNING:tensorflow:Layer lstm_74 will not use cuDNN kernels since it doesn't meet the criteria. It will use a generic GPU kernel as fallback when running on GPU.\n"
          ]
        },
        {
          "output_type": "stream",
          "name": "stdout",
          "text": [
            "[CV] END batch_size=32, dropout=0.1, epochs=1, learning_rate=0.1, units=128; total time=  29.5s\n",
            "194/194 - 26s - loss: 1.6849 - accuracy: 0.5077 - 26s/epoch - 135ms/step\n",
            "97/97 - 1s - loss: 1.2473 - accuracy: 0.5116 - 1s/epoch - 13ms/step\n"
          ]
        },
        {
          "output_type": "stream",
          "name": "stderr",
          "text": [
            "WARNING:tensorflow:Layer lstm_75 will not use cuDNN kernels since it doesn't meet the criteria. It will use a generic GPU kernel as fallback when running on GPU.\n"
          ]
        },
        {
          "output_type": "stream",
          "name": "stdout",
          "text": [
            "[CV] END batch_size=32, dropout=0.1, epochs=1, learning_rate=0.1, units=196; total time=  44.7s\n",
            "194/194 - 28s - loss: 1.5298 - accuracy: 0.4994 - 28s/epoch - 145ms/step\n",
            "97/97 - 1s - loss: 1.7257 - accuracy: 0.5374 - 1s/epoch - 13ms/step\n"
          ]
        },
        {
          "output_type": "stream",
          "name": "stderr",
          "text": [
            "WARNING:tensorflow:Layer lstm_76 will not use cuDNN kernels since it doesn't meet the criteria. It will use a generic GPU kernel as fallback when running on GPU.\n"
          ]
        },
        {
          "output_type": "stream",
          "name": "stdout",
          "text": [
            "[CV] END batch_size=32, dropout=0.1, epochs=1, learning_rate=0.1, units=196; total time=  30.4s\n",
            "194/194 - 26s - loss: 1.4485 - accuracy: 0.5142 - 26s/epoch - 135ms/step\n",
            "97/97 - 2s - loss: 1.3439 - accuracy: 0.5670 - 2s/epoch - 19ms/step\n"
          ]
        },
        {
          "output_type": "stream",
          "name": "stderr",
          "text": [
            "WARNING:tensorflow:Layer lstm_77 will not use cuDNN kernels since it doesn't meet the criteria. It will use a generic GPU kernel as fallback when running on GPU.\n"
          ]
        },
        {
          "output_type": "stream",
          "name": "stdout",
          "text": [
            "[CV] END batch_size=32, dropout=0.1, epochs=1, learning_rate=0.1, units=196; total time=  29.4s\n",
            "194/194 - 28s - loss: 0.8589 - accuracy: 0.6270 - 28s/epoch - 142ms/step\n",
            "97/97 - 1s - loss: 0.7834 - accuracy: 0.6556 - 1s/epoch - 13ms/step\n"
          ]
        },
        {
          "output_type": "stream",
          "name": "stderr",
          "text": [
            "WARNING:tensorflow:Layer lstm_78 will not use cuDNN kernels since it doesn't meet the criteria. It will use a generic GPU kernel as fallback when running on GPU.\n"
          ]
        },
        {
          "output_type": "stream",
          "name": "stdout",
          "text": [
            "[CV] END batch_size=32, dropout=0.2, epochs=1, learning_rate=0.001, units=64; total time=  29.4s\n",
            "194/194 - 27s - loss: 0.8535 - accuracy: 0.6320 - 27s/epoch - 141ms/step\n",
            "97/97 - 1s - loss: 0.7781 - accuracy: 0.6633 - 1s/epoch - 13ms/step\n"
          ]
        },
        {
          "output_type": "stream",
          "name": "stderr",
          "text": [
            "WARNING:tensorflow:Layer lstm_79 will not use cuDNN kernels since it doesn't meet the criteria. It will use a generic GPU kernel as fallback when running on GPU.\n"
          ]
        },
        {
          "output_type": "stream",
          "name": "stdout",
          "text": [
            "[CV] END batch_size=32, dropout=0.2, epochs=1, learning_rate=0.001, units=64; total time=  29.2s\n",
            "194/194 - 28s - loss: 0.8506 - accuracy: 0.6335 - 28s/epoch - 147ms/step\n",
            "97/97 - 1s - loss: 0.7717 - accuracy: 0.6748 - 1s/epoch - 12ms/step\n"
          ]
        },
        {
          "output_type": "stream",
          "name": "stderr",
          "text": [
            "WARNING:tensorflow:Layer lstm_80 will not use cuDNN kernels since it doesn't meet the criteria. It will use a generic GPU kernel as fallback when running on GPU.\n"
          ]
        },
        {
          "output_type": "stream",
          "name": "stdout",
          "text": [
            "[CV] END batch_size=32, dropout=0.2, epochs=1, learning_rate=0.001, units=64; total time=  45.8s\n",
            "194/194 - 27s - loss: 0.8528 - accuracy: 0.6326 - 27s/epoch - 138ms/step\n",
            "97/97 - 1s - loss: 0.7893 - accuracy: 0.6511 - 1s/epoch - 13ms/step\n"
          ]
        },
        {
          "output_type": "stream",
          "name": "stderr",
          "text": [
            "WARNING:tensorflow:Layer lstm_81 will not use cuDNN kernels since it doesn't meet the criteria. It will use a generic GPU kernel as fallback when running on GPU.\n"
          ]
        },
        {
          "output_type": "stream",
          "name": "stdout",
          "text": [
            "[CV] END batch_size=32, dropout=0.2, epochs=1, learning_rate=0.001, units=128; total time=  28.2s\n",
            "194/194 - 29s - loss: 0.8526 - accuracy: 0.6326 - 29s/epoch - 150ms/step\n",
            "97/97 - 1s - loss: 0.7721 - accuracy: 0.6746 - 1s/epoch - 12ms/step\n"
          ]
        },
        {
          "output_type": "stream",
          "name": "stderr",
          "text": [
            "WARNING:tensorflow:Layer lstm_82 will not use cuDNN kernels since it doesn't meet the criteria. It will use a generic GPU kernel as fallback when running on GPU.\n"
          ]
        },
        {
          "output_type": "stream",
          "name": "stdout",
          "text": [
            "[CV] END batch_size=32, dropout=0.2, epochs=1, learning_rate=0.001, units=128; total time=  47.1s\n",
            "194/194 - 28s - loss: 0.8501 - accuracy: 0.6264 - 28s/epoch - 143ms/step\n",
            "97/97 - 1s - loss: 0.7785 - accuracy: 0.6681 - 1s/epoch - 12ms/step\n"
          ]
        },
        {
          "output_type": "stream",
          "name": "stderr",
          "text": [
            "WARNING:tensorflow:Layer lstm_83 will not use cuDNN kernels since it doesn't meet the criteria. It will use a generic GPU kernel as fallback when running on GPU.\n"
          ]
        },
        {
          "output_type": "stream",
          "name": "stdout",
          "text": [
            "[CV] END batch_size=32, dropout=0.2, epochs=1, learning_rate=0.001, units=128; total time=  29.2s\n",
            "194/194 - 26s - loss: 0.8481 - accuracy: 0.6337 - 26s/epoch - 135ms/step\n",
            "97/97 - 1s - loss: 0.7621 - accuracy: 0.6666 - 1s/epoch - 15ms/step\n"
          ]
        },
        {
          "output_type": "stream",
          "name": "stderr",
          "text": [
            "WARNING:tensorflow:Layer lstm_84 will not use cuDNN kernels since it doesn't meet the criteria. It will use a generic GPU kernel as fallback when running on GPU.\n"
          ]
        },
        {
          "output_type": "stream",
          "name": "stdout",
          "text": [
            "[CV] END batch_size=32, dropout=0.2, epochs=1, learning_rate=0.001, units=196; total time=  28.2s\n",
            "194/194 - 27s - loss: 0.8523 - accuracy: 0.6328 - 27s/epoch - 139ms/step\n",
            "97/97 - 1s - loss: 0.7815 - accuracy: 0.6740 - 1s/epoch - 13ms/step\n"
          ]
        },
        {
          "output_type": "stream",
          "name": "stderr",
          "text": [
            "WARNING:tensorflow:Layer lstm_85 will not use cuDNN kernels since it doesn't meet the criteria. It will use a generic GPU kernel as fallback when running on GPU.\n"
          ]
        },
        {
          "output_type": "stream",
          "name": "stdout",
          "text": [
            "[CV] END batch_size=32, dropout=0.2, epochs=1, learning_rate=0.001, units=196; total time=  44.7s\n"
          ]
        }
      ]
    },
    {
      "cell_type": "code",
      "source": [
        "  "
      ],
      "metadata": {
        "id": "ysoZs_wjK3OW"
      },
      "execution_count": null,
      "outputs": []
    }
  ]
}